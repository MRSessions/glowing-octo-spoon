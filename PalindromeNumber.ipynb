{
 "cells": [
  {
   "cell_type": "code",
   "execution_count": null,
   "metadata": {
    "dotnet_interactive": {
     "language": "csharp"
    },
    "polyglot_notebook": {
     "kernelName": "csharp"
    }
   },
   "outputs": [],
   "source": [
    "//Do not make changes in this cell!\n",
    "#r \"nuget:NUnit\"\n",
    "#r \"nuget:Microsoft.TestPlatform.ObjectModel\"\n",
    "#r \"nuget:Microsoft.TestPlatform.TestHost\"\n",
    "\n",
    "using NUnit.Framework;\n",
    "using System.Collections;\n",
    "using System.Linq;"
   ]
  },
  {
   "attachments": {},
   "cell_type": "markdown",
   "metadata": {
    "dotnet_interactive": {
     "language": "csharp"
    },
    "polyglot_notebook": {
     "kernelName": "csharp"
    }
   },
   "source": [
    "# Palindrome Number\n",
    "\n",
    "Given an integer `x`, return `true` if `x` is a palindrome, and `false` otherwise.\n",
    "\n",
    " \n",
    "\n",
    "**Example 1:**\n",
    "\n",
    "> Input: x = 121  \n",
    "> Output: true  \n",
    "> Explanation: 121 reads as 121 from left to right and from right to left.\n",
    "\n",
    "**Example 2:**\n",
    "\n",
    "> Input: x = -121  \n",
    "> Output: false  \n",
    "> Explanation: From left to right, it reads -121. From right to left, it becomes 121-. Therefore it is not a palindrome.\n",
    "\n",
    "**Example 3:**\n",
    "\n",
    "> Input: x = 10  \n",
    "> Output: false  \n",
    "> Explanation: Reads 01 from right to left. Therefore it is not a palindrome.\n",
    " \n",
    "\n",
    "**Constraints:**\n",
    "\n",
    "`-231 <= x <= 231 - 1`\n",
    " \n",
    "\n",
    "**Follow up:** Could you solve it without converting the integer to a string?"
   ]
  },
  {
   "cell_type": "code",
   "execution_count": null,
   "metadata": {
    "dotnet_interactive": {
     "language": "csharp"
    },
    "polyglot_notebook": {
     "kernelName": "csharp"
    }
   },
   "outputs": [],
   "source": [
    "public bool IsPalindrome(int x) {\n",
    "  return new Random().Next(100) < 50; //Remove this and place your code here\n",
    "}\n",
    "\n",
    "//Used for testing above method to see output\n",
    "//This is not needed to pass tests\n",
    "Console.WriteLine(IsPalindrome(0));"
   ]
  },
  {
   "cell_type": "code",
   "execution_count": null,
   "metadata": {
    "dotnet_interactive": {
     "language": "csharp"
    },
    "polyglot_notebook": {
     "kernelName": "csharp"
    }
   },
   "outputs": [],
   "source": [
    "//Run this cell to test your code. Do not make changes in this cell!\n",
    "private bool DoesTestConditionPass(bool actual, bool expected)\n",
    "{\n",
    "  try {\n",
    "    Assert.That(actual, Is.EqualTo(expected)); //If this doesn't give error then it passes\n",
    "    return true;\n",
    "  } catch(Exception) { return false; }\n",
    "}\n",
    "\n",
    "var testCases = new List<KeyValuePair<int, bool>>(){\n",
    "  new KeyValuePair<int, bool>(121, true),\n",
    "  new KeyValuePair<int, bool>(-121, false),\n",
    "  new KeyValuePair<int, bool>(10, false)\n",
    "};\n",
    "\n",
    "\n",
    "//Test Each Case\n",
    "testCases.ForEach(test => {\n",
    "  var isPalindrome = IsPalindrome(test.Key);\n",
    "  var pass = DoesTestConditionPass(isPalindrome, test.Value);\n",
    "  if(pass)\n",
    "  {\n",
    "    Console.WriteLine($\"Input: n = {test.Key}: Passed\");\n",
    "    Console.WriteLine($\"Output: {test.Value}\");\n",
    "  }\n",
    "  else\n",
    "  {\n",
    "    Console.WriteLine($\"Input: n = {test.Key}: Failed\");\n",
    "    Console.WriteLine($\"Output: {test.Value}\");\n",
    "  }\n",
    "});"
   ]
  }
 ],
 "metadata": {
  "kernelspec": {
   "display_name": ".NET (C#)",
   "language": "C#",
   "name": ".net-csharp"
  },
  "polyglot_notebook": {
   "kernelInfo": {
    "defaultKernelName": "csharp",
    "items": [
     {
      "aliases": [
       "c#",
       "C#"
      ],
      "languageName": "C#",
      "name": "csharp"
     },
     {
      "aliases": [
       "frontend"
      ],
      "languageName": null,
      "name": "vscode"
     }
    ]
   }
  }
 },
 "nbformat": 4,
 "nbformat_minor": 2
}
