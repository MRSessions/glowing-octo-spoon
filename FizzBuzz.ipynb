{
 "cells": [
  {
   "cell_type": "code",
   "execution_count": null,
   "metadata": {
    "dotnet_interactive": {
     "language": "csharp"
    },
    "polyglot_notebook": {
     "kernelName": "csharp"
    }
   },
   "outputs": [],
   "source": [
    "#r \"nuget:NUnit\"\n",
    "#r \"nuget:Microsoft.TestPlatform.ObjectModel\"\n",
    "#r \"nuget:Microsoft.TestPlatform.TestHost\""
   ]
  },
  {
   "cell_type": "code",
   "execution_count": null,
   "metadata": {
    "dotnet_interactive": {
     "language": "csharp"
    },
    "polyglot_notebook": {
     "kernelName": "csharp"
    }
   },
   "outputs": [],
   "source": [
    "public static IList<string> FizzBuzz(int n)\n",
    "{\n",
    "    return null;\n",
    "}"
   ]
  },
  {
   "cell_type": "code",
   "execution_count": null,
   "metadata": {
    "dotnet_interactive": {
     "language": "csharp"
    },
    "polyglot_notebook": {
     "kernelName": "csharp"
    }
   },
   "outputs": [],
   "source": [
    "using NUnit.Framework;\n",
    "using System.Collections;"
   ]
  },
  {
   "cell_type": "code",
   "execution_count": null,
   "metadata": {
    "dotnet_interactive": {
     "language": "csharp"
    },
    "polyglot_notebook": {
     "kernelName": "csharp"
    }
   },
   "outputs": [],
   "source": [
    "\n",
    "    private bool DoesTestConditionPass(IList<string> actual, IList<string> expected)\n",
    "    {\n",
    "        try {\n",
    "            Assert.That(actual, Is.EqualTo(expected)); //If this doesn't give error then it passes\n",
    "            return true;\n",
    "        } catch(Exception) { return false; }\n",
    "    }\n",
    "    \n",
    "    var testCases = new List<KeyValuePair<int, IList<string>>>(){\n",
    "        new KeyValuePair<int, IList<string>>(3, new List<string>(){\"1\", \"2\", \"Fizz\"}),\n",
    "        new KeyValuePair<int, IList<string>>(5, new List<string>(){\"1\", \"2\", \"Fizz\", \"4\", \"Buzz\"}),\n",
    "        new KeyValuePair<int, IList<string>>(15, new List<string>(){\"1\", \"2\", \"Fizz\", \"4\", \"Buzz\", \"Fizz\", \"7\", \"8\", \"Fizz\", \"Buzz\", \"11\", \"Fizz\", \"13\", \"14\", \"FizzBuzz\"})\n",
    "    };\n",
    "\n",
    "\n",
    "    //Test Each Case\n",
    "    testCases.ForEach(test => {\n",
    "        var pass = DoesTestConditionPass(FizzBuzz(test.Key), test.Value);\n",
    "        if(pass)\n",
    "            Console.WriteLine($@\"Input: n = {test.Key}: Passed\n",
    "Output: {string.Join(\",\", test.Value)}\" + \"\\n\");\n",
    "        else\n",
    "            Console.WriteLine(\"Test(s) Failed!\");\n",
    "    });"
   ]
  }
 ],
 "metadata": {
  "kernelspec": {
   "display_name": ".NET (C#)",
   "language": "C#",
   "name": ".net-csharp"
  },
  "polyglot_notebook": {
   "kernelInfo": {
    "defaultKernelName": "csharp",
    "items": [
     {
      "aliases": [],
      "name": "csharp"
     }
    ]
   }
  }
 },
 "nbformat": 4,
 "nbformat_minor": 2
}
