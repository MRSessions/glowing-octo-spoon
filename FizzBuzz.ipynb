{
 "cells": [
  {
   "attachments": {},
   "cell_type": "markdown",
   "metadata": {},
   "source": [
    "Code Challenge FizzBuzz\n",
    "======================="
   ]
  },
  {
   "attachments": {},
   "cell_type": "markdown",
   "metadata": {
    "dotnet_interactive": {
     "language": "csharp"
    },
    "polyglot_notebook": {
     "kernelName": "csharp"
    }
   },
   "source": [
    "Import NuGet packages and create using statements in the following cell\n",
    "\n",
    "No code needs to change here"
   ]
  },
  {
   "cell_type": "code",
   "execution_count": null,
   "metadata": {
    "dotnet_interactive": {
     "language": "csharp"
    },
    "polyglot_notebook": {
     "kernelName": "csharp"
    },
    "vscode": {
     "languageId": "polyglot-notebook"
    }
   },
   "outputs": [],
   "source": [
    "#r \"nuget:NUnit\"\n",
    "#r \"nuget:Microsoft.TestPlatform.ObjectModel\"\n",
    "#r \"nuget:Microsoft.TestPlatform.TestHost\"\n",
    "\n",
    "using NUnit.Framework;\n",
    "using System.Collections;"
   ]
  },
  {
   "attachments": {},
   "cell_type": "markdown",
   "metadata": {
    "dotnet_interactive": {
     "language": "csharp"
    },
    "polyglot_notebook": {
     "kernelName": "csharp"
    }
   },
   "source": [
    "The following cell is where you will make all your necessary code changes for this challenge\n",
    "\n",
    "Once you have made your changes, you can hit the run all button (Menu > Cell > Run All)"
   ]
  },
  {
   "cell_type": "code",
   "execution_count": null,
   "metadata": {
    "dotnet_interactive": {
     "language": "csharp"
    },
    "polyglot_notebook": {
     "kernelName": "csharp"
    },
    "vscode": {
     "languageId": "polyglot-notebook"
    }
   },
   "outputs": [],
   "source": [
    "public static IList<string> FizzBuzz(int n)\n",
    "{\n",
    "    var blah = new List<string>(){\"1\", \"2\", \"Fizz\"};\n",
    "    return blah;\n",
    "}\n",
    "\n",
    "FizzBuzz(3)"
   ]
  },
  {
   "attachments": {},
   "cell_type": "markdown",
   "metadata": {
    "dotnet_interactive": {
     "language": "csharp"
    },
    "polyglot_notebook": {
     "kernelName": "csharp"
    }
   },
   "source": [
    "The following cell is running tests against your code changes\n",
    "\n",
    "No code needs to change here"
   ]
  },
  {
   "cell_type": "code",
   "execution_count": null,
   "metadata": {
    "dotnet_interactive": {
     "language": "csharp"
    },
    "polyglot_notebook": {
     "kernelName": "csharp"
    },
    "vscode": {
     "languageId": "polyglot-notebook"
    }
   },
   "outputs": [],
   "source": [
    "    private bool DoesTestConditionPass(IList<string> actual, IList<string> expected)\n",
    "    {\n",
    "        try {\n",
    "            Assert.That(actual, Is.EqualTo(expected)); //If this doesn't give error then it passes\n",
    "            return true;\n",
    "        } catch(Exception) { return false; }\n",
    "    }\n",
    "    \n",
    "    var testCases = new List<KeyValuePair<int, IList<string>>>(){\n",
    "        new KeyValuePair<int, IList<string>>(3, new List<string>(){\"1\", \"2\", \"Fizz\"}),\n",
    "        new KeyValuePair<int, IList<string>>(5, new List<string>(){\"1\", \"2\", \"Fizz\", \"4\", \"Buzz\"}),\n",
    "        new KeyValuePair<int, IList<string>>(15, new List<string>(){\"1\", \"2\", \"Fizz\", \"4\", \"Buzz\", \"Fizz\", \"7\", \"8\", \"Fizz\", \"Buzz\", \"11\", \"Fizz\", \"13\", \"14\", \"FizzBuzz\"})\n",
    "    };\n",
    "\n",
    "\n",
    "    //Test Each Case\n",
    "    testCases.ForEach(test => {\n",
    "        var fizzBuzz = FizzBuzz(test.Key);\n",
    "        var pass = DoesTestConditionPass(fizzBuzz, test.Value);\n",
    "        if(pass)\n",
    "            Console.WriteLine($@\"Input: n = {test.Key}: Passed\n",
    "Output: {string.Join(\",\", test.Value)}\" + \"\\n\");\n",
    "        else\n",
    "            Console.WriteLine($@\"Input: n = {test.Key}: Failed\n",
    "Expected: {string.Join(\",\", test.Value)}\n",
    "Actual: {string.Join(\",\", fizzBuzz)}\" + \"\\n\");\n",
    "    });"
   ]
  }
 ],
 "metadata": {
  "kernelspec": {
   "display_name": ".NET (C#)",
   "language": "C#",
   "name": ".net-csharp"
  },
  "polyglot_notebook": {
   "kernelInfo": {
    "defaultKernelName": "csharp",
    "items": [
     {
      "aliases": [],
      "name": "csharp"
     }
    ]
   }
  }
 },
 "nbformat": 4,
 "nbformat_minor": 2
}
